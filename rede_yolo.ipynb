{
 "cells": [
  {
   "cell_type": "code",
   "execution_count": 2,
   "metadata": {},
   "outputs": [],
   "source": [
    "import os\n",
    "import numpy as np\n",
    "from tqdm import tqdm\n",
    "from PIL import Image\n",
    "import random\n",
    "import shutil\n",
    "try:\n",
    "    from tensorflow.keras.preprocessing.image import ImageDataGenerator, load_img, img_to_array, save_img\n",
    "except ImportError:\n",
    "    raise ImportError(\"Certifique-se de que o Pillow está instalado. Execute 'pip install pillow'.\")\n",
    "\n",
    "from ultralytics import YOLO"
   ]
  },
  {
   "cell_type": "code",
   "execution_count": 6,
   "metadata": {},
   "outputs": [],
   "source": [
    "def apply_data_augmentation_inplace(input_path, augmentations_per_image=5):\n",
    "    \"\"\"\n",
    "    Aplica Data Augmentation nas imagens de uma pasta e salva as imagens aumentadas na mesma pasta.\n",
    "\n",
    "    Parâmetros:\n",
    "    - input_path: Caminho para a pasta contendo as imagens originais.\n",
    "    - augmentations_per_image: Número de imagens aumentadas a serem geradas por imagem original.\n",
    "    \"\"\"\n",
    "    # Criar o gerador de imagens com as transformações desejadas\n",
    "    datagen = ImageDataGenerator(\n",
    "        rotation_range=40,         # Rotação aleatória entre -40 e +40 graus\n",
    "        width_shift_range=0.2,     # Deslocamento horizontal\n",
    "        height_shift_range=0.2,    # Deslocamento vertical\n",
    "        shear_range=0.2,           # Transformação de cisalhamento\n",
    "        zoom_range=0.2,            # Zoom aleatório\n",
    "        horizontal_flip=True,      # Espelhamento horizontal\n",
    "        fill_mode='nearest'        # Preenchimento de pixels faltantes\n",
    "    )\n",
    "\n",
    "    # Percorrer todas as imagens na pasta de entrada\n",
    "    for filename in tqdm(os.listdir(input_path)):\n",
    "        if filename.lower().endswith(('.png', '.jpg', '.jpeg')):\n",
    "            # Carregar a imagem\n",
    "            img_path = os.path.join(input_path, filename)\n",
    "            img = load_img(img_path)  # Carrega a imagem como objeto PIL\n",
    "            img_array = img_to_array(img)  # Converte para array NumPy\n",
    "            img_array = np.expand_dims(img_array, axis=0)  # Expande dimensões para batch\n",
    "\n",
    "            # Gerar e salvar as imagens aumentadas\n",
    "            image_gen = datagen.flow(img_array, batch_size=1)\n",
    "\n",
    "            for i in range(augmentations_per_image):\n",
    "                # Gerar a imagem aumentada\n",
    "                augmented_image = next(image_gen)[0].astype('uint8')\n",
    "\n",
    "                # Gerar o novo nome para evitar sobrescrita\n",
    "                augmented_filename = f\"{os.path.splitext(filename)[0]}_aug_{i}.jpg\"\n",
    "                augmented_path = os.path.join(input_path, augmented_filename)\n",
    "\n",
    "                # Salvar a imagem aumentada na mesma pasta\n",
    "                save_img(augmented_path, augmented_image)\n",
    "\n",
    "    print(f\"Data Augmentation concluído! Imagens aumentadas salvas na pasta: {input_path}\")"
   ]
  },
  {
   "cell_type": "code",
   "execution_count": 7,
   "metadata": {},
   "outputs": [],
   "source": [
    "# Exemplo de uso\n",
    "input_path = r'normal-cancer\\cancer'"
   ]
  },
  {
   "cell_type": "code",
   "execution_count": 8,
   "metadata": {},
   "outputs": [
    {
     "name": "stderr",
     "output_type": "stream",
     "text": [
      "100%|██████████| 1802/1802 [50:30<00:00,  1.68s/it]  "
     ]
    },
    {
     "name": "stdout",
     "output_type": "stream",
     "text": [
      "Data Augmentation concluído! Imagens aumentadas salvas na pasta: normal-cancer\\cancer\n"
     ]
    },
    {
     "name": "stderr",
     "output_type": "stream",
     "text": [
      "\n"
     ]
    }
   ],
   "source": [
    "apply_data_augmentation_inplace(input_path)"
   ]
  },
  {
   "cell_type": "code",
   "execution_count": 13,
   "metadata": {},
   "outputs": [],
   "source": [
    "def downsample_images(input_path, output_path, target_count=10812):\n",
    "    \"\"\"\n",
    "    Seleciona aleatoriamente um número especificado de imagens da pasta de entrada\n",
    "    e as move para a pasta de saída.\n",
    "    \n",
    "    Parâmetros:\n",
    "    - input_path: Caminho da pasta com as imagens originais.\n",
    "    - output_path: Caminho para a pasta onde as imagens selecionadas serão salvas.\n",
    "    - target_count: Número de imagens que queremos selecionar aleatoriamente.\n",
    "    \"\"\"\n",
    "    # Listar todas as imagens na pasta de entrada\n",
    "    all_images = [f for f in os.listdir(input_path) if f.lower().endswith(('.png', '.jpg', '.jpeg'))]\n",
    "\n",
    "    # Selecionar aleatoriamente o número desejado de imagens\n",
    "    selected_images = random.sample(all_images, target_count)\n",
    "\n",
    "    # Criar a pasta de saída, se não existir\n",
    "    os.makedirs(output_path, exist_ok=True)\n",
    "\n",
    "    # Mover as imagens selecionadas para a pasta de saída\n",
    "    for image in tqdm(selected_images):\n",
    "        src = os.path.join(input_path, image)\n",
    "        dst = os.path.join(output_path, image)\n",
    "        shutil.copy(src, dst)\n",
    "\n",
    "    print(f\"{target_count} imagens movidas para {output_path}\")"
   ]
  },
  {
   "cell_type": "code",
   "execution_count": 14,
   "metadata": {},
   "outputs": [],
   "source": [
    "input_path = r'normal-cancer\\normal'\n",
    "output_path = r'normal-cancer\\normais_balanceadas'"
   ]
  },
  {
   "cell_type": "code",
   "execution_count": 15,
   "metadata": {},
   "outputs": [
    {
     "name": "stderr",
     "output_type": "stream",
     "text": [
      "100%|██████████| 10812/10812 [00:29<00:00, 370.60it/s]"
     ]
    },
    {
     "name": "stdout",
     "output_type": "stream",
     "text": [
      "10812 imagens movidas para normal-cancer\\normais_balanceadas\n"
     ]
    },
    {
     "name": "stderr",
     "output_type": "stream",
     "text": [
      "\n"
     ]
    }
   ],
   "source": [
    "downsample_images(input_path, output_path)"
   ]
  },
  {
   "cell_type": "code",
   "execution_count": 17,
   "metadata": {},
   "outputs": [
    {
     "name": "stdout",
     "output_type": "stream",
     "text": [
      "Downloading https://github.com/ultralytics/assets/releases/download/v8.3.0/yolov8n-cls.pt to 'yolov8n-cls.pt'...\n"
     ]
    },
    {
     "name": "stderr",
     "output_type": "stream",
     "text": [
      "100%|██████████| 5.31M/5.31M [00:00<00:00, 9.76MB/s]\n"
     ]
    }
   ],
   "source": [
    "# Load a model\n",
    "model = YOLO(\"yolov8n-cls.pt\") "
   ]
  },
  {
   "cell_type": "code",
   "execution_count": 18,
   "metadata": {},
   "outputs": [
    {
     "name": "stdout",
     "output_type": "stream",
     "text": [
      "Ultralytics 8.3.18  Python-3.11.7 torch-2.5.0+cpu CPU (AMD Ryzen 5 5600X 6-Core Processor)\n",
      "\u001b[34m\u001b[1mengine\\trainer: \u001b[0mtask=classify, mode=train, model=yolov8n-cls.pt, data=data, epochs=10, time=None, patience=100, batch=16, imgsz=256, save=True, save_period=-1, cache=False, device=None, workers=8, project=None, name=train, exist_ok=False, pretrained=True, optimizer=auto, verbose=True, seed=0, deterministic=True, single_cls=False, rect=False, cos_lr=False, close_mosaic=10, resume=False, amp=True, fraction=1.0, profile=False, freeze=None, multi_scale=False, overlap_mask=True, mask_ratio=4, dropout=0.0, val=True, split=val, save_json=False, save_hybrid=False, conf=None, iou=0.7, max_det=300, half=False, dnn=False, plots=True, source=None, vid_stride=1, stream_buffer=False, visualize=False, augment=False, agnostic_nms=False, classes=None, retina_masks=False, embed=None, show=False, save_frames=False, save_txt=False, save_conf=False, save_crop=False, show_labels=True, show_conf=True, show_boxes=True, line_width=None, format=torchscript, keras=False, optimize=False, int8=False, dynamic=False, simplify=True, opset=None, workspace=4, nms=False, lr0=0.01, lrf=0.01, momentum=0.937, weight_decay=0.0005, warmup_epochs=3.0, warmup_momentum=0.8, warmup_bias_lr=0.1, box=7.5, cls=0.5, dfl=1.5, pose=12.0, kobj=1.0, label_smoothing=0.0, nbs=64, hsv_h=0.015, hsv_s=0.7, hsv_v=0.4, degrees=0.0, translate=0.1, scale=0.5, shear=0.0, perspective=0.0, flipud=0.0, fliplr=0.5, bgr=0.0, mosaic=1.0, mixup=0.0, copy_paste=0.0, copy_paste_mode=flip, auto_augment=randaugment, erasing=0.4, crop_fraction=1.0, cfg=None, tracker=botsort.yaml, save_dir=c:\\Users\\diogo\\OneDrive\\rea de Trabalho\\DEV\\breast-cancer-prediction\\runs\\classify\\train\n",
      "\u001b[34m\u001b[1mtrain:\u001b[0m C:\\Users\\diogo\\OneDrive\\rea de Trabalho\\DEV\\breast-cancer-prediction\\data\\train... found 21580 images in 2 classes  \n",
      "\u001b[34m\u001b[1mval:\u001b[0m None...\n",
      "\u001b[34m\u001b[1mtest:\u001b[0m C:\\Users\\diogo\\OneDrive\\rea de Trabalho\\DEV\\breast-cancer-prediction\\data\\test... found 44 images in 2 classes  \n",
      "Overriding model.yaml nc=1000 with nc=2\n",
      "\n",
      "                   from  n    params  module                                       arguments                     \n",
      "  0                  -1  1       464  ultralytics.nn.modules.conv.Conv             [3, 16, 3, 2]                 \n",
      "  1                  -1  1      4672  ultralytics.nn.modules.conv.Conv             [16, 32, 3, 2]                \n",
      "  2                  -1  1      7360  ultralytics.nn.modules.block.C2f             [32, 32, 1, True]             \n",
      "  3                  -1  1     18560  ultralytics.nn.modules.conv.Conv             [32, 64, 3, 2]                \n",
      "  4                  -1  2     49664  ultralytics.nn.modules.block.C2f             [64, 64, 2, True]             \n",
      "  5                  -1  1     73984  ultralytics.nn.modules.conv.Conv             [64, 128, 3, 2]               \n",
      "  6                  -1  2    197632  ultralytics.nn.modules.block.C2f             [128, 128, 2, True]           \n",
      "  7                  -1  1    295424  ultralytics.nn.modules.conv.Conv             [128, 256, 3, 2]              \n",
      "  8                  -1  1    460288  ultralytics.nn.modules.block.C2f             [256, 256, 1, True]           \n",
      "  9                  -1  1    332802  ultralytics.nn.modules.head.Classify         [256, 2]                      \n",
      "YOLOv8n-cls summary: 99 layers, 1,440,850 parameters, 1,440,850 gradients, 3.4 GFLOPs\n",
      "Transferred 156/158 items from pretrained weights\n",
      "\u001b[34m\u001b[1mTensorBoard: \u001b[0mWARNING  TensorBoard not initialized correctly, not logging this run. c:\\Users\\diogo\\OneDrive\\rea de Trabalho\\DEV\\breast-cancer-prediction\\runs\\classify\\train is not a directory\n"
     ]
    },
    {
     "name": "stderr",
     "output_type": "stream",
     "text": [
      "\u001b[34m\u001b[1mtrain: \u001b[0mScanning C:\\Users\\diogo\\OneDrive\\Área de Trabalho\\DEV\\breast-cancer-prediction\\data\\train... 21580 images, 0 corrupt: 100%|██████████| 21580/21580 [00:11<00:00, 1888.89it/s]\n"
     ]
    },
    {
     "name": "stdout",
     "output_type": "stream",
     "text": [
      "\u001b[34m\u001b[1mtrain: \u001b[0mNew cache created: C:\\Users\\diogo\\OneDrive\\rea de Trabalho\\DEV\\breast-cancer-prediction\\data\\train.cache\n"
     ]
    },
    {
     "name": "stderr",
     "output_type": "stream",
     "text": [
      "\u001b[34m\u001b[1mval: \u001b[0mScanning C:\\Users\\diogo\\OneDrive\\Área de Trabalho\\DEV\\breast-cancer-prediction\\data\\test... 44 images, 0 corrupt: 100%|██████████| 44/44 [00:00<00:00, 2173.52it/s]"
     ]
    },
    {
     "name": "stdout",
     "output_type": "stream",
     "text": [
      "\u001b[34m\u001b[1mval: \u001b[0mNew cache created: C:\\Users\\diogo\\OneDrive\\rea de Trabalho\\DEV\\breast-cancer-prediction\\data\\test.cache\n",
      "\u001b[34m\u001b[1moptimizer:\u001b[0m 'optimizer=auto' found, ignoring 'lr0=0.01' and 'momentum=0.937' and determining best 'optimizer', 'lr0' and 'momentum' automatically... \n",
      "\u001b[34m\u001b[1moptimizer:\u001b[0m AdamW(lr=0.000714, momentum=0.9) with parameter groups 26 weight(decay=0.0), 27 weight(decay=0.0005), 27 bias(decay=0.0)\n",
      "Image sizes 256 train, 256 val\n",
      "Using 0 dataloader workers\n",
      "Logging results to \u001b[1mc:\\Users\\diogo\\OneDrive\\rea de Trabalho\\DEV\\breast-cancer-prediction\\runs\\classify\\train\u001b[0m\n",
      "Starting training for 10 epochs...\n",
      "\n",
      "      Epoch    GPU_mem       loss  Instances       Size\n"
     ]
    },
    {
     "name": "stderr",
     "output_type": "stream",
     "text": [
      "\n",
      "       1/10         0G     0.4899         12        256: 100%|██████████| 1349/1349 [12:27<00:00,  1.80it/s]\n",
      "               classes   top1_acc   top5_acc: 100%|██████████| 2/2 [00:00<00:00,  3.06it/s]"
     ]
    },
    {
     "name": "stdout",
     "output_type": "stream",
     "text": [
      "                   all      0.955          1\n"
     ]
    },
    {
     "name": "stderr",
     "output_type": "stream",
     "text": [
      "\n"
     ]
    },
    {
     "name": "stdout",
     "output_type": "stream",
     "text": [
      "\n",
      "      Epoch    GPU_mem       loss  Instances       Size\n"
     ]
    },
    {
     "name": "stderr",
     "output_type": "stream",
     "text": [
      "       2/10         0G     0.3883         12        256: 100%|██████████| 1349/1349 [12:33<00:00,  1.79it/s]\n",
      "               classes   top1_acc   top5_acc: 100%|██████████| 2/2 [00:00<00:00,  3.26it/s]"
     ]
    },
    {
     "name": "stdout",
     "output_type": "stream",
     "text": [
      "                   all      0.955          1\n"
     ]
    },
    {
     "name": "stderr",
     "output_type": "stream",
     "text": [
      "\n"
     ]
    },
    {
     "name": "stdout",
     "output_type": "stream",
     "text": [
      "\n",
      "      Epoch    GPU_mem       loss  Instances       Size\n"
     ]
    },
    {
     "name": "stderr",
     "output_type": "stream",
     "text": [
      "       3/10         0G     0.3695         12        256: 100%|██████████| 1349/1349 [11:48<00:00,  1.91it/s]\n",
      "               classes   top1_acc   top5_acc: 100%|██████████| 2/2 [00:00<00:00,  3.19it/s]"
     ]
    },
    {
     "name": "stdout",
     "output_type": "stream",
     "text": [
      "                   all      0.955          1\n"
     ]
    },
    {
     "name": "stderr",
     "output_type": "stream",
     "text": [
      "\n"
     ]
    },
    {
     "name": "stdout",
     "output_type": "stream",
     "text": [
      "\n",
      "      Epoch    GPU_mem       loss  Instances       Size\n"
     ]
    },
    {
     "name": "stderr",
     "output_type": "stream",
     "text": [
      "       4/10         0G     0.3448         12        256: 100%|██████████| 1349/1349 [11:46<00:00,  1.91it/s]\n",
      "               classes   top1_acc   top5_acc: 100%|██████████| 2/2 [00:00<00:00,  3.27it/s]"
     ]
    },
    {
     "name": "stdout",
     "output_type": "stream",
     "text": [
      "                   all      0.955          1\n"
     ]
    },
    {
     "name": "stderr",
     "output_type": "stream",
     "text": [
      "\n"
     ]
    },
    {
     "name": "stdout",
     "output_type": "stream",
     "text": [
      "\n",
      "      Epoch    GPU_mem       loss  Instances       Size\n"
     ]
    },
    {
     "name": "stderr",
     "output_type": "stream",
     "text": [
      "       5/10         0G     0.3346         12        256: 100%|██████████| 1349/1349 [11:49<00:00,  1.90it/s]\n",
      "               classes   top1_acc   top5_acc: 100%|██████████| 2/2 [00:00<00:00,  3.22it/s]"
     ]
    },
    {
     "name": "stdout",
     "output_type": "stream",
     "text": [
      "                   all      0.977          1\n"
     ]
    },
    {
     "name": "stderr",
     "output_type": "stream",
     "text": [
      "\n"
     ]
    },
    {
     "name": "stdout",
     "output_type": "stream",
     "text": [
      "\n",
      "      Epoch    GPU_mem       loss  Instances       Size\n"
     ]
    },
    {
     "name": "stderr",
     "output_type": "stream",
     "text": [
      "       6/10         0G     0.3201         12        256: 100%|██████████| 1349/1349 [11:47<00:00,  1.91it/s]\n",
      "               classes   top1_acc   top5_acc: 100%|██████████| 2/2 [00:00<00:00,  3.29it/s]"
     ]
    },
    {
     "name": "stdout",
     "output_type": "stream",
     "text": [
      "                   all      0.955          1\n"
     ]
    },
    {
     "name": "stderr",
     "output_type": "stream",
     "text": [
      "\n"
     ]
    },
    {
     "name": "stdout",
     "output_type": "stream",
     "text": [
      "\n",
      "      Epoch    GPU_mem       loss  Instances       Size\n"
     ]
    },
    {
     "name": "stderr",
     "output_type": "stream",
     "text": [
      "       7/10         0G     0.3096         12        256: 100%|██████████| 1349/1349 [12:04<00:00,  1.86it/s]\n",
      "               classes   top1_acc   top5_acc: 100%|██████████| 2/2 [00:00<00:00,  3.18it/s]"
     ]
    },
    {
     "name": "stdout",
     "output_type": "stream",
     "text": [
      "                   all      0.955          1\n"
     ]
    },
    {
     "name": "stderr",
     "output_type": "stream",
     "text": [
      "\n"
     ]
    },
    {
     "name": "stdout",
     "output_type": "stream",
     "text": [
      "\n",
      "      Epoch    GPU_mem       loss  Instances       Size\n"
     ]
    },
    {
     "name": "stderr",
     "output_type": "stream",
     "text": [
      "       8/10         0G     0.2984         12        256: 100%|██████████| 1349/1349 [11:49<00:00,  1.90it/s]\n",
      "               classes   top1_acc   top5_acc: 100%|██████████| 2/2 [00:00<00:00,  3.19it/s]"
     ]
    },
    {
     "name": "stdout",
     "output_type": "stream",
     "text": [
      "                   all      0.955          1\n"
     ]
    },
    {
     "name": "stderr",
     "output_type": "stream",
     "text": [
      "\n"
     ]
    },
    {
     "name": "stdout",
     "output_type": "stream",
     "text": [
      "\n",
      "      Epoch    GPU_mem       loss  Instances       Size\n"
     ]
    },
    {
     "name": "stderr",
     "output_type": "stream",
     "text": [
      "       9/10         0G     0.2934         12        256: 100%|██████████| 1349/1349 [11:51<00:00,  1.89it/s]\n",
      "               classes   top1_acc   top5_acc: 100%|██████████| 2/2 [00:00<00:00,  3.27it/s]"
     ]
    },
    {
     "name": "stdout",
     "output_type": "stream",
     "text": [
      "                   all      0.955          1\n"
     ]
    },
    {
     "name": "stderr",
     "output_type": "stream",
     "text": [
      "\n"
     ]
    },
    {
     "name": "stdout",
     "output_type": "stream",
     "text": [
      "\n",
      "      Epoch    GPU_mem       loss  Instances       Size\n"
     ]
    },
    {
     "name": "stderr",
     "output_type": "stream",
     "text": [
      "      10/10         0G     0.2841         12        256: 100%|██████████| 1349/1349 [11:48<00:00,  1.90it/s]\n",
      "               classes   top1_acc   top5_acc: 100%|██████████| 2/2 [00:00<00:00,  3.20it/s]"
     ]
    },
    {
     "name": "stdout",
     "output_type": "stream",
     "text": [
      "                   all      0.955          1\n"
     ]
    },
    {
     "name": "stderr",
     "output_type": "stream",
     "text": [
      "\n"
     ]
    },
    {
     "name": "stdout",
     "output_type": "stream",
     "text": [
      "\n",
      "10 epochs completed in 1.999 hours.\n",
      "Optimizer stripped from c:\\Users\\diogo\\OneDrive\\rea de Trabalho\\DEV\\breast-cancer-prediction\\runs\\classify\\train\\weights\\last.pt, 3.0MB\n",
      "Optimizer stripped from c:\\Users\\diogo\\OneDrive\\rea de Trabalho\\DEV\\breast-cancer-prediction\\runs\\classify\\train\\weights\\best.pt, 3.0MB\n",
      "\n",
      "Validating c:\\Users\\diogo\\OneDrive\\rea de Trabalho\\DEV\\breast-cancer-prediction\\runs\\classify\\train\\weights\\best.pt...\n",
      "Ultralytics 8.3.18  Python-3.11.7 torch-2.5.0+cpu CPU (AMD Ryzen 5 5600X 6-Core Processor)\n",
      "YOLOv8n-cls summary (fused): 73 layers, 1,437,442 parameters, 0 gradients, 3.3 GFLOPs\n",
      "WARNING  Dataset 'split=val' not found, using 'split=test' instead.\n",
      "\u001b[34m\u001b[1mtrain:\u001b[0m C:\\Users\\diogo\\OneDrive\\rea de Trabalho\\DEV\\breast-cancer-prediction\\data\\train... found 21580 images in 2 classes  \n",
      "\u001b[34m\u001b[1mval:\u001b[0m None...\n",
      "\u001b[34m\u001b[1mtest:\u001b[0m C:\\Users\\diogo\\OneDrive\\rea de Trabalho\\DEV\\breast-cancer-prediction\\data\\test... found 44 images in 2 classes  \n"
     ]
    },
    {
     "name": "stderr",
     "output_type": "stream",
     "text": [
      "               classes   top1_acc   top5_acc: 100%|██████████| 2/2 [00:00<00:00,  3.22it/s]\n"
     ]
    },
    {
     "name": "stdout",
     "output_type": "stream",
     "text": [
      "                   all      0.977          1\n",
      "Speed: 0.0ms preprocess, 3.1ms inference, 0.0ms loss, 0.0ms postprocess per image\n",
      "Results saved to \u001b[1mc:\\Users\\diogo\\OneDrive\\rea de Trabalho\\DEV\\breast-cancer-prediction\\runs\\classify\\train\u001b[0m\n"
     ]
    }
   ],
   "source": [
    "# Train the model\n",
    "results = model.train(data=\"data\", epochs=10, imgsz=256)"
   ]
  },
  {
   "cell_type": "code",
   "execution_count": 4,
   "metadata": {},
   "outputs": [],
   "source": [
    "model_trained = YOLO(r\"runs\\classify\\train\\weights\\best.pt\")"
   ]
  },
  {
   "cell_type": "code",
   "execution_count": 12,
   "metadata": {},
   "outputs": [
    {
     "name": "stdout",
     "output_type": "stream",
     "text": [
      "\n",
      "image 1/1 c:\\Users\\diogo\\OneDrive\\rea de Trabalho\\DEV\\breast-cancer-prediction\\data\\test\\cancer\\55148_926538150_aug_0.jpg: 256x256 cancer 1.00, normal 0.00, 8.4ms\n",
      "Speed: 6.8ms preprocess, 8.4ms inference, 0.0ms postprocess per image at shape (1, 3, 256, 256)\n"
     ]
    }
   ],
   "source": [
    "results = model_trained(r\"data\\test\\cancer\\55148_926538150_aug_0.jpg\")"
   ]
  },
  {
   "cell_type": "code",
   "execution_count": 13,
   "metadata": {},
   "outputs": [
    {
     "data": {
      "text/plain": [
       "'output.png'"
      ]
     },
     "execution_count": 13,
     "metadata": {},
     "output_type": "execute_result"
    }
   ],
   "source": [
    "results[0].save(\"output.png\")"
   ]
  }
 ],
 "metadata": {
  "kernelspec": {
   "display_name": "breast",
   "language": "python",
   "name": "python3"
  },
  "language_info": {
   "codemirror_mode": {
    "name": "ipython",
    "version": 3
   },
   "file_extension": ".py",
   "mimetype": "text/x-python",
   "name": "python",
   "nbconvert_exporter": "python",
   "pygments_lexer": "ipython3",
   "version": "3.11.7"
  }
 },
 "nbformat": 4,
 "nbformat_minor": 2
}
